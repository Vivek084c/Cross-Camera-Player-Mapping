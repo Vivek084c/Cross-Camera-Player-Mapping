{
 "cells": [
  {
   "cell_type": "markdown",
   "id": "433a6460",
   "metadata": {},
   "source": [
    "## code to read frames from tacticam file and generate the bounding box for set of frames"
   ]
  },
  {
   "cell_type": "code",
   "execution_count": null,
   "id": "8afb7b15",
   "metadata": {},
   "outputs": [],
   "source": []
  }
 ],
 "metadata": {
  "kernelspec": {
   "display_name": "base",
   "language": "python",
   "name": "python3"
  },
  "language_info": {
   "codemirror_mode": {
    "name": "ipython",
    "version": 3
   },
   "file_extension": ".py",
   "mimetype": "text/x-python",
   "name": "python",
   "nbconvert_exporter": "python",
   "pygments_lexer": "ipython3",
   "version": "3.12.4"
  }
 },
 "nbformat": 4,
 "nbformat_minor": 5
}
